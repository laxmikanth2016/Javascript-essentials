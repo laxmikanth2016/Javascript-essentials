{
 "cells": [
  {
   "cell_type": "code",
   "execution_count": 1,
   "id": "8910ccc7-d247-4933-af1e-b60a44429eeb",
   "metadata": {},
   "outputs": [
    {
     "name": "stderr",
     "output_type": "stream",
     "text": [
      "23/11/09 22:46:55 WARN Utils: Your hostname, DESKTOP-SOJTQQ3 resolves to a loopback address: 127.0.1.1; using 172.18.45.221 instead (on interface eth0)\n",
      "23/11/09 22:46:55 WARN Utils: Set SPARK_LOCAL_IP if you need to bind to another address\n",
      "Setting default log level to \"WARN\".\n",
      "To adjust logging level use sc.setLogLevel(newLevel). For SparkR, use setLogLevel(newLevel).\n",
      "23/11/09 22:46:56 WARN NativeCodeLoader: Unable to load native-hadoop library for your platform... using builtin-java classes where applicable\n",
      "23/11/09 22:47:00 WARN SparkSession: Using an existing Spark session; only runtime SQL configurations will take effect.\n",
      "                                                                                \r"
     ]
    }
   ],
   "source": [
    "from pyspark.sql import SparkSession\n",
    "from pyspark.sql.functions import broadcast\n",
    "from pyspark.sql.functions import col, when\n",
    "\n",
    "# Initialize a Spark session\n",
    "spark = SparkSession.builder.appName(\"TitanicDataset\").getOrCreate()\n",
    "spark = SparkSession.builder.appName(\"employeesDataset\").getOrCreate()\n",
    "\n",
    "# Load the dataset\n",
    "data = spark.read.csv(\"/home/laxmi/awesome-public-datasets/Datasets/titanic.csv\", header=True, inferSchema=True)\n",
    "employee= spark.read.csv(\"/home/laxmi/awesome-public-datasets/employees.csv\", header=True, inferSchema=True)\n"
   ]
  },
  {
   "cell_type": "code",
   "execution_count": 2,
   "id": "ad5399c2-179e-47ab-805a-15082cd82a6f",
   "metadata": {},
   "outputs": [
    {
     "name": "stdout",
     "output_type": "stream",
     "text": [
      "+-----------+--------+------+--------------------+------+----+-----+-----+----------------+-------+-----+--------+\n",
      "|PassengerId|Survived|Pclass|                Name|   Sex| Age|SibSp|Parch|          Ticket|   Fare|Cabin|Embarked|\n",
      "+-----------+--------+------+--------------------+------+----+-----+-----+----------------+-------+-----+--------+\n",
      "|          1|       0|     3|Braund, Mr. Owen ...|  male|22.0|    1|    0|       A/5 21171|   7.25| NULL|       S|\n",
      "|          2|       1|     1|Cumings, Mrs. Joh...|female|38.0|    1|    0|        PC 17599|71.2833|  C85|       C|\n",
      "|          3|       1|     3|Heikkinen, Miss. ...|female|26.0|    0|    0|STON/O2. 3101282|  7.925| NULL|       S|\n",
      "|          4|       1|     1|Futrelle, Mrs. Ja...|female|35.0|    1|    0|          113803|   53.1| C123|       S|\n",
      "|          5|       0|     3|Allen, Mr. Willia...|  male|35.0|    0|    0|          373450|   8.05| NULL|       S|\n",
      "|          6|       0|     3|    Moran, Mr. James|  male|NULL|    0|    0|          330877| 8.4583| NULL|       Q|\n",
      "|          7|       0|     1|McCarthy, Mr. Tim...|  male|54.0|    0|    0|           17463|51.8625|  E46|       S|\n",
      "|          8|       0|     3|Palsson, Master. ...|  male| 2.0|    3|    1|          349909| 21.075| NULL|       S|\n",
      "|          9|       1|     3|Johnson, Mrs. Osc...|female|27.0|    0|    2|          347742|11.1333| NULL|       S|\n",
      "|         10|       1|     2|Nasser, Mrs. Nich...|female|14.0|    1|    0|          237736|30.0708| NULL|       C|\n",
      "|         11|       1|     3|Sandstrom, Miss. ...|female| 4.0|    1|    1|         PP 9549|   16.7|   G6|       S|\n",
      "|         12|       1|     1|Bonnell, Miss. El...|female|58.0|    0|    0|          113783|  26.55| C103|       S|\n",
      "|         13|       0|     3|Saundercock, Mr. ...|  male|20.0|    0|    0|       A/5. 2151|   8.05| NULL|       S|\n",
      "|         14|       0|     3|Andersson, Mr. An...|  male|39.0|    1|    5|          347082| 31.275| NULL|       S|\n",
      "|         15|       0|     3|Vestrom, Miss. Hu...|female|14.0|    0|    0|          350406| 7.8542| NULL|       S|\n",
      "|         16|       1|     2|Hewlett, Mrs. (Ma...|female|55.0|    0|    0|          248706|   16.0| NULL|       S|\n",
      "|         17|       0|     3|Rice, Master. Eugene|  male| 2.0|    4|    1|          382652| 29.125| NULL|       Q|\n",
      "|         18|       1|     2|Williams, Mr. Cha...|  male|NULL|    0|    0|          244373|   13.0| NULL|       S|\n",
      "|         19|       0|     3|Vander Planke, Mr...|female|31.0|    1|    0|          345763|   18.0| NULL|       S|\n",
      "|         20|       1|     3|Masselmani, Mrs. ...|female|NULL|    0|    0|            2649|  7.225| NULL|       C|\n",
      "+-----------+--------+------+--------------------+------+----+-----+-----+----------------+-------+-----+--------+\n",
      "only showing top 20 rows\n",
      "\n",
      "+-----------+----------+---------+--------+------------+---------+----------+------+--------------+----------+-------------+\n",
      "|EMPLOYEE_ID|FIRST_NAME|LAST_NAME|   EMAIL|PHONE_NUMBER|HIRE_DATE|    JOB_ID|SALARY|COMMISSION_PCT|MANAGER_ID|DEPARTMENT_ID|\n",
      "+-----------+----------+---------+--------+------------+---------+----------+------+--------------+----------+-------------+\n",
      "|        198|    Donald| OConnell|DOCONNEL|650.507.9833|21-JUN-07|  SH_CLERK|  2600|            - |       124|           50|\n",
      "|        199|   Douglas|    Grant|  DGRANT|650.507.9844|13-JAN-08|  SH_CLERK|  2600|            - |       124|           50|\n",
      "|        200|  Jennifer|   Whalen| JWHALEN|515.123.4444|17-SEP-03|   AD_ASST|  4400|            - |       101|           10|\n",
      "|        201|   Michael|Hartstein|MHARTSTE|515.123.5555|17-FEB-04|    MK_MAN| 13000|            - |       100|           20|\n",
      "|        202|       Pat|      Fay|    PFAY|603.123.6666|17-AUG-05|    MK_REP|  6000|            - |       201|           20|\n",
      "|        203|     Susan|   Mavris| SMAVRIS|515.123.7777|07-JUN-02|    HR_REP|  6500|            - |       101|           40|\n",
      "|        204|   Hermann|     Baer|   HBAER|515.123.8888|07-JUN-02|    PR_REP| 10000|            - |       101|           70|\n",
      "|        205|   Shelley|  Higgins|SHIGGINS|515.123.8080|07-JUN-02|    AC_MGR| 12008|            - |       101|          110|\n",
      "|        206|   William|    Gietz|  WGIETZ|515.123.8181|07-JUN-02|AC_ACCOUNT|  8300|            - |       205|          110|\n",
      "|        100|    Steven|     King|   SKING|515.123.4567|17-JUN-03|   AD_PRES| 24000|            - |        - |           90|\n",
      "|        101|     Neena|  Kochhar|NKOCHHAR|515.123.4568|21-SEP-05|     AD_VP| 17000|            - |       100|           90|\n",
      "|        102|       Lex|  De Haan| LDEHAAN|515.123.4569|13-JAN-01|     AD_VP| 17000|            - |       100|           90|\n",
      "|        103| Alexander|   Hunold| AHUNOLD|590.423.4567|03-JAN-06|   IT_PROG|  9000|            - |       102|           60|\n",
      "|        104|     Bruce|    Ernst|  BERNST|590.423.4568|21-MAY-07|   IT_PROG|  6000|            - |       103|           60|\n",
      "|        105|     David|   Austin| DAUSTIN|590.423.4569|25-JUN-05|   IT_PROG|  4800|            - |       103|           60|\n",
      "|        106|     Valli|Pataballa|VPATABAL|590.423.4560|05-FEB-06|   IT_PROG|  4800|            - |       103|           60|\n",
      "|        107|     Diana|  Lorentz|DLORENTZ|590.423.5567|07-FEB-07|   IT_PROG|  4200|            - |       103|           60|\n",
      "|        108|     Nancy|Greenberg|NGREENBE|515.124.4569|17-AUG-02|    FI_MGR| 12008|            - |       101|          100|\n",
      "|        109|    Daniel|   Faviet| DFAVIET|515.124.4169|16-AUG-02|FI_ACCOUNT|  9000|            - |       108|          100|\n",
      "|        110|      John|     Chen|   JCHEN|515.124.4269|28-SEP-05|FI_ACCOUNT|  8200|            - |       108|          100|\n",
      "+-----------+----------+---------+--------+------------+---------+----------+------+--------------+----------+-------------+\n",
      "only showing top 20 rows\n",
      "\n"
     ]
    }
   ],
   "source": [
    "data.show()  \n",
    "employee.show()"
   ]
  },
  {
   "cell_type": "code",
   "execution_count": 3,
   "id": "94986a49-d827-4944-807c-e6c0b35f2fca",
   "metadata": {},
   "outputs": [
    {
     "name": "stdout",
     "output_type": "stream",
     "text": [
      "+-----------+--------+------+--------------------+----+----+-----+-----+---------+----+-----+--------+-----------+----------+---------+--------+------------+---------+----------+------+--------------+----------+-------------+\n",
      "|PassengerId|Survived|Pclass|                Name| Sex| Age|SibSp|Parch|   Ticket|Fare|Cabin|Embarked|EMPLOYEE_ID|FIRST_NAME|LAST_NAME|   EMAIL|PHONE_NUMBER|HIRE_DATE|    JOB_ID|SALARY|COMMISSION_PCT|MANAGER_ID|DEPARTMENT_ID|\n",
      "+-----------+--------+------+--------------------+----+----+-----+-----+---------+----+-----+--------+-----------+----------+---------+--------+------------+---------+----------+------+--------------+----------+-------------+\n",
      "|          1|       0|     3|Braund, Mr. Owen ...|male|22.0|    1|    0|A/5 21171|7.25| NULL|       S|        198|    Donald| OConnell|DOCONNEL|650.507.9833|21-JUN-07|  SH_CLERK|  2600|            - |       124|           50|\n",
      "|          1|       0|     3|Braund, Mr. Owen ...|male|22.0|    1|    0|A/5 21171|7.25| NULL|       S|        199|   Douglas|    Grant|  DGRANT|650.507.9844|13-JAN-08|  SH_CLERK|  2600|            - |       124|           50|\n",
      "|          1|       0|     3|Braund, Mr. Owen ...|male|22.0|    1|    0|A/5 21171|7.25| NULL|       S|        200|  Jennifer|   Whalen| JWHALEN|515.123.4444|17-SEP-03|   AD_ASST|  4400|            - |       101|           10|\n",
      "|          1|       0|     3|Braund, Mr. Owen ...|male|22.0|    1|    0|A/5 21171|7.25| NULL|       S|        201|   Michael|Hartstein|MHARTSTE|515.123.5555|17-FEB-04|    MK_MAN| 13000|            - |       100|           20|\n",
      "|          1|       0|     3|Braund, Mr. Owen ...|male|22.0|    1|    0|A/5 21171|7.25| NULL|       S|        202|       Pat|      Fay|    PFAY|603.123.6666|17-AUG-05|    MK_REP|  6000|            - |       201|           20|\n",
      "|          1|       0|     3|Braund, Mr. Owen ...|male|22.0|    1|    0|A/5 21171|7.25| NULL|       S|        203|     Susan|   Mavris| SMAVRIS|515.123.7777|07-JUN-02|    HR_REP|  6500|            - |       101|           40|\n",
      "|          1|       0|     3|Braund, Mr. Owen ...|male|22.0|    1|    0|A/5 21171|7.25| NULL|       S|        204|   Hermann|     Baer|   HBAER|515.123.8888|07-JUN-02|    PR_REP| 10000|            - |       101|           70|\n",
      "|          1|       0|     3|Braund, Mr. Owen ...|male|22.0|    1|    0|A/5 21171|7.25| NULL|       S|        205|   Shelley|  Higgins|SHIGGINS|515.123.8080|07-JUN-02|    AC_MGR| 12008|            - |       101|          110|\n",
      "|          1|       0|     3|Braund, Mr. Owen ...|male|22.0|    1|    0|A/5 21171|7.25| NULL|       S|        206|   William|    Gietz|  WGIETZ|515.123.8181|07-JUN-02|AC_ACCOUNT|  8300|            - |       205|          110|\n",
      "|          1|       0|     3|Braund, Mr. Owen ...|male|22.0|    1|    0|A/5 21171|7.25| NULL|       S|        100|    Steven|     King|   SKING|515.123.4567|17-JUN-03|   AD_PRES| 24000|            - |        - |           90|\n",
      "|          1|       0|     3|Braund, Mr. Owen ...|male|22.0|    1|    0|A/5 21171|7.25| NULL|       S|        101|     Neena|  Kochhar|NKOCHHAR|515.123.4568|21-SEP-05|     AD_VP| 17000|            - |       100|           90|\n",
      "|          1|       0|     3|Braund, Mr. Owen ...|male|22.0|    1|    0|A/5 21171|7.25| NULL|       S|        102|       Lex|  De Haan| LDEHAAN|515.123.4569|13-JAN-01|     AD_VP| 17000|            - |       100|           90|\n",
      "|          1|       0|     3|Braund, Mr. Owen ...|male|22.0|    1|    0|A/5 21171|7.25| NULL|       S|        103| Alexander|   Hunold| AHUNOLD|590.423.4567|03-JAN-06|   IT_PROG|  9000|            - |       102|           60|\n",
      "|          1|       0|     3|Braund, Mr. Owen ...|male|22.0|    1|    0|A/5 21171|7.25| NULL|       S|        104|     Bruce|    Ernst|  BERNST|590.423.4568|21-MAY-07|   IT_PROG|  6000|            - |       103|           60|\n",
      "|          1|       0|     3|Braund, Mr. Owen ...|male|22.0|    1|    0|A/5 21171|7.25| NULL|       S|        105|     David|   Austin| DAUSTIN|590.423.4569|25-JUN-05|   IT_PROG|  4800|            - |       103|           60|\n",
      "|          1|       0|     3|Braund, Mr. Owen ...|male|22.0|    1|    0|A/5 21171|7.25| NULL|       S|        106|     Valli|Pataballa|VPATABAL|590.423.4560|05-FEB-06|   IT_PROG|  4800|            - |       103|           60|\n",
      "|          1|       0|     3|Braund, Mr. Owen ...|male|22.0|    1|    0|A/5 21171|7.25| NULL|       S|        107|     Diana|  Lorentz|DLORENTZ|590.423.5567|07-FEB-07|   IT_PROG|  4200|            - |       103|           60|\n",
      "|          1|       0|     3|Braund, Mr. Owen ...|male|22.0|    1|    0|A/5 21171|7.25| NULL|       S|        108|     Nancy|Greenberg|NGREENBE|515.124.4569|17-AUG-02|    FI_MGR| 12008|            - |       101|          100|\n",
      "|          1|       0|     3|Braund, Mr. Owen ...|male|22.0|    1|    0|A/5 21171|7.25| NULL|       S|        109|    Daniel|   Faviet| DFAVIET|515.124.4169|16-AUG-02|FI_ACCOUNT|  9000|            - |       108|          100|\n",
      "|          1|       0|     3|Braund, Mr. Owen ...|male|22.0|    1|    0|A/5 21171|7.25| NULL|       S|        110|      John|     Chen|   JCHEN|515.124.4269|28-SEP-05|FI_ACCOUNT|  8200|            - |       108|          100|\n",
      "+-----------+--------+------+--------------------+----+----+-----+-----+---------+----+-----+--------+-----------+----------+---------+--------+------------+---------+----------+------+--------------+----------+-------------+\n",
      "only showing top 20 rows\n",
      "\n"
     ]
    }
   ],
   "source": [
    "# Perform some common operations on the dataset\n",
    "# 1. Filter passengers with Age > 30\n",
    "#filtered_data = data.filter(data[\"Age\"] > 30)\n",
    "#filtered_data.show(5)\n",
    "Merged_data=data.join(employee)\n",
    "Merged_data.show()"
   ]
  },
  {
   "cell_type": "code",
   "execution_count": 4,
   "id": "681721fe-c230-4589-a284-49e82f952859",
   "metadata": {},
   "outputs": [],
   "source": [
    "survived_passengers = data.filter(data['Survived'] == 0)\n"
   ]
  },
  {
   "cell_type": "code",
   "execution_count": 5,
   "id": "7d7918de-4188-4ddb-a3c7-da4114143e18",
   "metadata": {},
   "outputs": [
    {
     "name": "stdout",
     "output_type": "stream",
     "text": [
      "+-----------+--------+------+--------------------+------+----+-----+-----+----------+-------+-----------+--------+\n",
      "|PassengerId|Survived|Pclass|                Name|   Sex| Age|SibSp|Parch|    Ticket|   Fare|      Cabin|Embarked|\n",
      "+-----------+--------+------+--------------------+------+----+-----+-----+----------+-------+-----------+--------+\n",
      "|          1|       0|     3|Braund, Mr. Owen ...|  male|22.0|    1|    0| A/5 21171|   7.25|       NULL|       S|\n",
      "|          5|       0|     3|Allen, Mr. Willia...|  male|35.0|    0|    0|    373450|   8.05|       NULL|       S|\n",
      "|          6|       0|     3|    Moran, Mr. James|  male|NULL|    0|    0|    330877| 8.4583|       NULL|       Q|\n",
      "|          7|       0|     1|McCarthy, Mr. Tim...|  male|54.0|    0|    0|     17463|51.8625|        E46|       S|\n",
      "|          8|       0|     3|Palsson, Master. ...|  male| 2.0|    3|    1|    349909| 21.075|       NULL|       S|\n",
      "|         13|       0|     3|Saundercock, Mr. ...|  male|20.0|    0|    0| A/5. 2151|   8.05|       NULL|       S|\n",
      "|         14|       0|     3|Andersson, Mr. An...|  male|39.0|    1|    5|    347082| 31.275|       NULL|       S|\n",
      "|         15|       0|     3|Vestrom, Miss. Hu...|female|14.0|    0|    0|    350406| 7.8542|       NULL|       S|\n",
      "|         17|       0|     3|Rice, Master. Eugene|  male| 2.0|    4|    1|    382652| 29.125|       NULL|       Q|\n",
      "|         19|       0|     3|Vander Planke, Mr...|female|31.0|    1|    0|    345763|   18.0|       NULL|       S|\n",
      "|         21|       0|     2|Fynney, Mr. Joseph J|  male|35.0|    0|    0|    239865|   26.0|       NULL|       S|\n",
      "|         25|       0|     3|Palsson, Miss. To...|female| 8.0|    3|    1|    349909| 21.075|       NULL|       S|\n",
      "|         27|       0|     3|Emir, Mr. Farred ...|  male|NULL|    0|    0|      2631|  7.225|       NULL|       C|\n",
      "|         28|       0|     1|Fortune, Mr. Char...|  male|19.0|    3|    2|     19950|  263.0|C23 C25 C27|       S|\n",
      "|         30|       0|     3| Todoroff, Mr. Lalio|  male|NULL|    0|    0|    349216| 7.8958|       NULL|       S|\n",
      "|         31|       0|     1|Uruchurtu, Don. M...|  male|40.0|    0|    0|  PC 17601|27.7208|       NULL|       C|\n",
      "|         34|       0|     2|Wheadon, Mr. Edwa...|  male|66.0|    0|    0|C.A. 24579|   10.5|       NULL|       S|\n",
      "|         35|       0|     1|Meyer, Mr. Edgar ...|  male|28.0|    1|    0|  PC 17604|82.1708|       NULL|       C|\n",
      "|         36|       0|     1|Holverson, Mr. Al...|  male|42.0|    1|    0|    113789|   52.0|       NULL|       S|\n",
      "|         38|       0|     3|Cann, Mr. Ernest ...|  male|21.0|    0|    0|A./5. 2152|   8.05|       NULL|       S|\n",
      "+-----------+--------+------+--------------------+------+----+-----+-----+----------+-------+-----------+--------+\n",
      "only showing top 20 rows\n",
      "\n"
     ]
    }
   ],
   "source": [
    "survived_passengers.show() "
   ]
  },
  {
   "cell_type": "code",
   "execution_count": 6,
   "id": "368ada01-d555-4b9a-bb66-f2b7eba6433a",
   "metadata": {},
   "outputs": [
    {
     "data": {
      "text/plain": [
       "[Row(PassengerId=1, Survived=0, Pclass=3, Name='Braund, Mr. Owen Harris', Sex='male', Age=22.0, SibSp=1, Parch=0, Ticket='A/5 21171', Fare=7.25, Cabin=None, Embarked='S'),\n",
       " Row(PassengerId=2, Survived=1, Pclass=1, Name='Cumings, Mrs. John Bradley (Florence Briggs Thayer)', Sex='female', Age=38.0, SibSp=1, Parch=0, Ticket='PC 17599', Fare=71.2833, Cabin='C85', Embarked='C'),\n",
       " Row(PassengerId=3, Survived=1, Pclass=3, Name='Heikkinen, Miss. Laina', Sex='female', Age=26.0, SibSp=0, Parch=0, Ticket='STON/O2. 3101282', Fare=7.925, Cabin=None, Embarked='S'),\n",
       " Row(PassengerId=4, Survived=1, Pclass=1, Name='Futrelle, Mrs. Jacques Heath (Lily May Peel)', Sex='female', Age=35.0, SibSp=1, Parch=0, Ticket='113803', Fare=53.1, Cabin='C123', Embarked='S'),\n",
       " Row(PassengerId=5, Survived=0, Pclass=3, Name='Allen, Mr. William Henry', Sex='male', Age=35.0, SibSp=0, Parch=0, Ticket='373450', Fare=8.05, Cabin=None, Embarked='S')]"
      ]
     },
     "execution_count": 6,
     "metadata": {},
     "output_type": "execute_result"
    }
   ],
   "source": [
    "data.take(5) "
   ]
  },
  {
   "cell_type": "code",
   "execution_count": 7,
   "id": "9d6e9725-b0dc-4318-a24a-4444f2d5bf3b",
   "metadata": {},
   "outputs": [
    {
     "name": "stdout",
     "output_type": "stream",
     "text": [
      "+-----------+--------------------+------+----+\n",
      "|PassengerId|                Name|   Sex| Age|\n",
      "+-----------+--------------------+------+----+\n",
      "|          1|Braund, Mr. Owen ...|  male|22.0|\n",
      "|          2|Cumings, Mrs. Joh...|female|38.0|\n",
      "|          3|Heikkinen, Miss. ...|female|26.0|\n",
      "|          4|Futrelle, Mrs. Ja...|female|35.0|\n",
      "|          5|Allen, Mr. Willia...|  male|35.0|\n",
      "|          6|    Moran, Mr. James|  male|NULL|\n",
      "|          7|McCarthy, Mr. Tim...|  male|54.0|\n",
      "|          8|Palsson, Master. ...|  male| 2.0|\n",
      "|          9|Johnson, Mrs. Osc...|female|27.0|\n",
      "|         10|Nasser, Mrs. Nich...|female|14.0|\n",
      "|         11|Sandstrom, Miss. ...|female| 4.0|\n",
      "|         12|Bonnell, Miss. El...|female|58.0|\n",
      "|         13|Saundercock, Mr. ...|  male|20.0|\n",
      "|         14|Andersson, Mr. An...|  male|39.0|\n",
      "|         15|Vestrom, Miss. Hu...|female|14.0|\n",
      "|         16|Hewlett, Mrs. (Ma...|female|55.0|\n",
      "|         17|Rice, Master. Eugene|  male| 2.0|\n",
      "|         18|Williams, Mr. Cha...|  male|NULL|\n",
      "|         19|Vander Planke, Mr...|female|31.0|\n",
      "|         20|Masselmani, Mrs. ...|female|NULL|\n",
      "+-----------+--------------------+------+----+\n",
      "only showing top 20 rows\n",
      "\n"
     ]
    }
   ],
   "source": [
    "selected_data=data.select('PassengerId', 'Name', 'Sex', 'Age') \n",
    "selected_data.show() "
   ]
  },
  {
   "cell_type": "code",
   "execution_count": 8,
   "id": "30973552-7a23-443c-8b8a-159714bd1ff9",
   "metadata": {},
   "outputs": [
    {
     "name": "stdout",
     "output_type": "stream",
     "text": [
      "+------+------------------+---------+\n",
      "|Pclass|          avg(Age)|max(Fare)|\n",
      "+------+------------------+---------+\n",
      "|     1|38.233440860215055| 512.3292|\n",
      "|     3| 25.14061971830986|    69.55|\n",
      "|     2| 29.87763005780347|     73.5|\n",
      "+------+------------------+---------+\n",
      "\n"
     ]
    }
   ],
   "source": [
    "age_group = data.groupBy('Pclass').agg({'Age': 'mean', 'Fare': 'max'})  \n",
    "age_group.show() \n"
   ]
  },
  {
   "cell_type": "code",
   "execution_count": 9,
   "id": "3db9e849-c23f-4da8-92cd-beca3f8b7dc9",
   "metadata": {},
   "outputs": [
    {
     "name": "stdout",
     "output_type": "stream",
     "text": [
      "+-----------+--------------------+------+----+\n",
      "|PassengerId|                Name|   Sex| Age|\n",
      "+-----------+--------------------+------+----+\n",
      "|          2|Cumings, Mrs. Joh...|female|38.0|\n",
      "|          4|Futrelle, Mrs. Ja...|female|35.0|\n",
      "|          7|McCarthy, Mr. Tim...|  male|54.0|\n",
      "|          8|Palsson, Master. ...|  male| 2.0|\n",
      "|         10|Nasser, Mrs. Nich...|female|14.0|\n",
      "|         12|Bonnell, Miss. El...|female|58.0|\n",
      "|         14|Andersson, Mr. An...|  male|39.0|\n",
      "|         17|Rice, Master. Eugene|  male| 2.0|\n",
      "|         21|Fynney, Mr. Joseph J|  male|35.0|\n",
      "|         24|Sloper, Mr. Willi...|  male|28.0|\n",
      "|         25|Palsson, Miss. To...|female| 8.0|\n",
      "|         26|Asplund, Mrs. Car...|female|38.0|\n",
      "|         28|Fortune, Mr. Char...|  male|19.0|\n",
      "|         31|Uruchurtu, Don. M...|  male|40.0|\n",
      "|         32|Spencer, Mrs. Wil...|female|NULL|\n",
      "|         35|Meyer, Mr. Edgar ...|  male|28.0|\n",
      "|         36|Holverson, Mr. Al...|  male|42.0|\n",
      "|         42|Turpin, Mrs. Will...|female|27.0|\n",
      "|         44|Laroche, Miss. Si...|female| 3.0|\n",
      "|         49| Samaan, Mr. Youssef|  male|NULL|\n",
      "+-----------+--------------------+------+----+\n",
      "only showing top 20 rows\n",
      "\n"
     ]
    }
   ],
   "source": [
    "df1=data.filter(data[\"Fare\"]> 20).select('PassengerId','Name','Sex', 'Age',)  \n",
    "df1.show()   "
   ]
  },
  {
   "cell_type": "code",
   "execution_count": 10,
   "id": "b8061805-8fe0-4fa8-b5b9-60d816a6c66d",
   "metadata": {},
   "outputs": [
    {
     "name": "stdout",
     "output_type": "stream",
     "text": [
      "+-----------+--------+------+--------------------+------+----+-----+-----+--------+--------+---------------+--------+\n",
      "|PassengerId|Survived|Pclass|                Name|   Sex| Age|SibSp|Parch|  Ticket|    Fare|          Cabin|Embarked|\n",
      "+-----------+--------+------+--------------------+------+----+-----+-----+--------+--------+---------------+--------+\n",
      "|        259|       1|     1|    Ward, Miss. Anna|female|35.0|    0|    0|PC 17755|512.3292|           NULL|       C|\n",
      "|        680|       1|     1|Cardeza, Mr. Thom...|  male|36.0|    0|    1|PC 17755|512.3292|    B51 B53 B55|       C|\n",
      "|        738|       1|     1|Lesurer, Mr. Gust...|  male|35.0|    0|    0|PC 17755|512.3292|           B101|       C|\n",
      "|         28|       0|     1|Fortune, Mr. Char...|  male|19.0|    3|    2|   19950|   263.0|    C23 C25 C27|       S|\n",
      "|         89|       1|     1|Fortune, Miss. Ma...|female|23.0|    3|    2|   19950|   263.0|    C23 C25 C27|       S|\n",
      "|        342|       1|     1|Fortune, Miss. Al...|female|24.0|    3|    2|   19950|   263.0|    C23 C25 C27|       S|\n",
      "|        439|       0|     1|   Fortune, Mr. Mark|  male|64.0|    1|    4|   19950|   263.0|    C23 C25 C27|       S|\n",
      "|        312|       1|     1|Ryerson, Miss. Em...|female|18.0|    2|    2|PC 17608| 262.375|B57 B59 B63 B66|       C|\n",
      "|        743|       1|     1|\"Ryerson, Miss. S...|female|21.0|    2|    2|PC 17608| 262.375|B57 B59 B63 B66|       C|\n",
      "|        119|       0|     1|Baxter, Mr. Quigg...|  male|24.0|    0|    1|PC 17558|247.5208|        B58 B60|       C|\n",
      "|        300|       1|     1|Baxter, Mrs. Jame...|female|50.0|    0|    1|PC 17558|247.5208|        B58 B60|       C|\n",
      "|        381|       1|     1|Bidois, Miss. Ros...|female|42.0|    0|    0|PC 17757| 227.525|           NULL|       C|\n",
      "|        558|       0|     1| Robbins, Mr. Victor|  male|NULL|    0|    0|PC 17757| 227.525|           NULL|       C|\n",
      "|        701|       1|     1|Astor, Mrs. John ...|female|18.0|    1|    0|PC 17757| 227.525|        C62 C64|       C|\n",
      "|        717|       1|     1|Endres, Miss. Car...|female|38.0|    0|    0|PC 17757| 227.525|            C45|       C|\n",
      "|        528|       0|     1|  Farthing, Mr. John|  male|NULL|    0|    0|PC 17483|221.7792|            C95|       S|\n",
      "|        378|       0|     1|Widener, Mr. Harr...|  male|27.0|    0|    2|  113503|   211.5|            C82|       C|\n",
      "|        690|       1|     1|Madill, Miss. Geo...|female|15.0|    0|    1|   24160|211.3375|             B5|       S|\n",
      "|        731|       1|     1|Allen, Miss. Elis...|female|29.0|    0|    0|   24160|211.3375|             B5|       S|\n",
      "|        780|       1|     1|Robert, Mrs. Edwa...|female|43.0|    0|    1|   24160|211.3375|             B3|       S|\n",
      "+-----------+--------+------+--------------------+------+----+-----+-----+--------+--------+---------------+--------+\n",
      "only showing top 20 rows\n",
      "\n"
     ]
    }
   ],
   "source": [
    "sorted_data = data.orderBy('Fare', ascending=False)\n",
    "sorted_data.show()\n",
    "\n"
   ]
  },
  {
   "cell_type": "code",
   "execution_count": 11,
   "id": "94ab08b0-5069-4cd7-8322-f0ed2e8db250",
   "metadata": {},
   "outputs": [
    {
     "name": "stdout",
     "output_type": "stream",
     "text": [
      "+----+\n",
      "| Age|\n",
      "+----+\n",
      "|22.0|\n",
      "|38.0|\n",
      "|26.0|\n",
      "|35.0|\n",
      "|35.0|\n",
      "|NULL|\n",
      "|54.0|\n",
      "| 2.0|\n",
      "|27.0|\n",
      "|14.0|\n",
      "| 4.0|\n",
      "|58.0|\n",
      "|20.0|\n",
      "|39.0|\n",
      "|14.0|\n",
      "|55.0|\n",
      "| 2.0|\n",
      "|NULL|\n",
      "|31.0|\n",
      "|NULL|\n",
      "+----+\n",
      "only showing top 20 rows\n",
      "\n"
     ]
    }
   ],
   "source": [
    "df2=data.select('Age',)\n",
    "df2.show() \n",
    "\n"
   ]
  },
  {
   "cell_type": "code",
   "execution_count": 12,
   "id": "dfe55e25-46b7-42f0-8072-faf865daff8e",
   "metadata": {},
   "outputs": [
    {
     "name": "stdout",
     "output_type": "stream",
     "text": [
      "+----+-----------+--------------------+------+\n",
      "| Age|PassengerId|                Name|   Sex|\n",
      "+----+-----------+--------------------+------+\n",
      "|38.0|          2|Cumings, Mrs. Joh...|female|\n",
      "|38.0|          2|Cumings, Mrs. Joh...|female|\n",
      "|38.0|          2|Cumings, Mrs. Joh...|female|\n",
      "|38.0|          2|Cumings, Mrs. Joh...|female|\n",
      "|38.0|          2|Cumings, Mrs. Joh...|female|\n",
      "|38.0|          2|Cumings, Mrs. Joh...|female|\n",
      "|38.0|          2|Cumings, Mrs. Joh...|female|\n",
      "|38.0|          2|Cumings, Mrs. Joh...|female|\n",
      "|38.0|          2|Cumings, Mrs. Joh...|female|\n",
      "|38.0|          2|Cumings, Mrs. Joh...|female|\n",
      "|38.0|          2|Cumings, Mrs. Joh...|female|\n",
      "|35.0|          4|Futrelle, Mrs. Ja...|female|\n",
      "|35.0|          4|Futrelle, Mrs. Ja...|female|\n",
      "|35.0|          4|Futrelle, Mrs. Ja...|female|\n",
      "|35.0|          4|Futrelle, Mrs. Ja...|female|\n",
      "|35.0|          4|Futrelle, Mrs. Ja...|female|\n",
      "|35.0|          4|Futrelle, Mrs. Ja...|female|\n",
      "|35.0|          4|Futrelle, Mrs. Ja...|female|\n",
      "|35.0|          4|Futrelle, Mrs. Ja...|female|\n",
      "|35.0|          4|Futrelle, Mrs. Ja...|female|\n",
      "+----+-----------+--------------------+------+\n",
      "only showing top 20 rows\n",
      "\n"
     ]
    }
   ],
   "source": [
    "merged_data=df1.join(df2, 'Age', 'inner')\n",
    "merged_data.show()\n"
   ]
  },
  {
   "cell_type": "code",
   "execution_count": 13,
   "id": "35d8f422-a90f-4aa4-96b8-023be8c2da72",
   "metadata": {},
   "outputs": [
    {
     "name": "stdout",
     "output_type": "stream",
     "text": [
      "+----+-----------+--------------------+\n",
      "| Age|PassengerId|                Name|\n",
      "+----+-----------+--------------------+\n",
      "|38.0|          2|Cumings, Mrs. Joh...|\n",
      "|38.0|          2|Cumings, Mrs. Joh...|\n",
      "|38.0|          2|Cumings, Mrs. Joh...|\n",
      "|38.0|          2|Cumings, Mrs. Joh...|\n",
      "|38.0|          2|Cumings, Mrs. Joh...|\n",
      "|38.0|          2|Cumings, Mrs. Joh...|\n",
      "|38.0|          2|Cumings, Mrs. Joh...|\n",
      "|38.0|          2|Cumings, Mrs. Joh...|\n",
      "|38.0|          2|Cumings, Mrs. Joh...|\n",
      "|38.0|          2|Cumings, Mrs. Joh...|\n",
      "|38.0|          2|Cumings, Mrs. Joh...|\n",
      "|35.0|          4|Futrelle, Mrs. Ja...|\n",
      "|35.0|          4|Futrelle, Mrs. Ja...|\n",
      "|35.0|          4|Futrelle, Mrs. Ja...|\n",
      "|35.0|          4|Futrelle, Mrs. Ja...|\n",
      "|35.0|          4|Futrelle, Mrs. Ja...|\n",
      "|35.0|          4|Futrelle, Mrs. Ja...|\n",
      "|35.0|          4|Futrelle, Mrs. Ja...|\n",
      "|35.0|          4|Futrelle, Mrs. Ja...|\n",
      "|35.0|          4|Futrelle, Mrs. Ja...|\n",
      "+----+-----------+--------------------+\n",
      "only showing top 20 rows\n",
      "\n"
     ]
    }
   ],
   "source": [
    "cleaned_data = merged_data.drop('Sex')\n",
    "cleaned_data.show()\n"
   ]
  },
  {
   "cell_type": "code",
   "execution_count": 14,
   "id": "617eab1b-4183-4944-86b8-4768790e7257",
   "metadata": {},
   "outputs": [
    {
     "name": "stdout",
     "output_type": "stream",
     "text": [
      "No.of rows in this table is: 891\n"
     ]
    }
   ],
   "source": [
    "total_passengers = data.count()\n",
    "print(\"No.of rows in this table is:\", total_passengers) \n",
    "\n",
    "\n"
   ]
  },
  {
   "cell_type": "code",
   "execution_count": 15,
   "id": "88b8b75d-090b-4375-8428-53cef965cdc2",
   "metadata": {},
   "outputs": [
    {
     "name": "stdout",
     "output_type": "stream",
     "text": [
      "+----+-----------+\n",
      "| Age|PassengerId|\n",
      "+----+-----------+\n",
      "|38.0|          2|\n",
      "|38.0|          2|\n",
      "|38.0|          2|\n",
      "|38.0|          2|\n",
      "|38.0|          2|\n",
      "|38.0|          2|\n",
      "|38.0|          2|\n",
      "|38.0|          2|\n",
      "|38.0|          2|\n",
      "|38.0|          2|\n",
      "|38.0|          2|\n",
      "|35.0|          4|\n",
      "|35.0|          4|\n",
      "|35.0|          4|\n",
      "|35.0|          4|\n",
      "|35.0|          4|\n",
      "|35.0|          4|\n",
      "|35.0|          4|\n",
      "|35.0|          4|\n",
      "|35.0|          4|\n",
      "+----+-----------+\n",
      "only showing top 20 rows\n",
      "\n"
     ]
    }
   ],
   "source": [
    "Edited_data= cleaned_data.drop('Name') \n",
    "Edited_data.show() "
   ]
  },
  {
   "cell_type": "code",
   "execution_count": null,
   "id": "88074187-df48-4bc3-895c-b69c0c2892b2",
   "metadata": {},
   "outputs": [],
   "source": [
    "\n"
   ]
  },
  {
   "cell_type": "code",
   "execution_count": 16,
   "id": "12440847-c947-42c4-a565-10233c99e943",
   "metadata": {},
   "outputs": [],
   "source": [
    "selected_data.write.mode(\"overwrite\").csv(\"/home/laxmi/practice\")\n",
    "\n"
   ]
  },
  {
   "cell_type": "code",
   "execution_count": 17,
   "id": "b48d9f87-ffcc-4933-8223-d9896d6e8855",
   "metadata": {},
   "outputs": [],
   "source": [
    "#New_data= spark.read.csv(\"/home/laxmi/practice/part-00000-39926742-0583-4394-9e43-d7d5eed148e9-c000.csv\")\n",
    "#New_data.show() "
   ]
  },
  {
   "cell_type": "code",
   "execution_count": 18,
   "id": "f7932cf7-8ac9-4621-9169-025e8a3fcdad",
   "metadata": {},
   "outputs": [],
   "source": [
    "#Total=New_data.count() \n",
    "#print(\"Total no. of rows is : \", Total) "
   ]
  },
  {
   "cell_type": "code",
   "execution_count": 19,
   "id": "c519fe6a-df05-4a3d-843a-a58a9b32a098",
   "metadata": {},
   "outputs": [],
   "source": [
    "Description_data= df1.describe(['Name', 'Age']) "
   ]
  },
  {
   "cell_type": "code",
   "execution_count": 20,
   "id": "7175e6d0-4afc-4db9-9e84-644ad3b73ee5",
   "metadata": {},
   "outputs": [
    {
     "name": "stdout",
     "output_type": "stream",
     "text": [
      "+-------+--------------------+------------------+\n",
      "|summary|                Name|               Age|\n",
      "+-------+--------------------+------------------+\n",
      "|  count|                 376|               323|\n",
      "|   mean|                NULL|31.740712074303406|\n",
      "| stddev|                NULL|16.674316354468363|\n",
      "|    min|\"Angle, Mrs. Will...|              0.83|\n",
      "|    max|del Carlo, Mr. Se...|              80.0|\n",
      "+-------+--------------------+------------------+\n",
      "\n"
     ]
    }
   ],
   "source": [
    "Description_data.show() "
   ]
  },
  {
   "cell_type": "code",
   "execution_count": 21,
   "id": "5f261eb3-8af9-4b07-b89e-a5bf6ef6e947",
   "metadata": {},
   "outputs": [
    {
     "ename": "NameError",
     "evalue": "name 'New_data' is not defined",
     "output_type": "error",
     "traceback": [
      "\u001b[0;31m---------------------------------------------------------------------------\u001b[0m",
      "\u001b[0;31mNameError\u001b[0m                                 Traceback (most recent call last)",
      "Cell \u001b[0;32mIn[21], line 1\u001b[0m\n\u001b[0;32m----> 1\u001b[0m Together_data\u001b[38;5;241m=\u001b[39m df1\u001b[38;5;241m.\u001b[39munion(\u001b[43mNew_data\u001b[49m) \n\u001b[1;32m      2\u001b[0m Together_data\u001b[38;5;241m.\u001b[39mshow()\n",
      "\u001b[0;31mNameError\u001b[0m: name 'New_data' is not defined"
     ]
    }
   ],
   "source": [
    "Together_data= df1.union(New_data) \n",
    "Together_data.show()"
   ]
  },
  {
   "cell_type": "code",
   "execution_count": null,
   "id": "f267109a-f9a9-4547-92da-4458a7a377bb",
   "metadata": {},
   "outputs": [],
   "source": [
    "distinct_df = employee.distinct()\n",
    "distinct_df.show()"
   ]
  },
  {
   "cell_type": "code",
   "execution_count": null,
   "id": "5f10f347-7fc1-45f4-b19d-14917d467ae1",
   "metadata": {},
   "outputs": [],
   "source": [
    "data = [(\"John\", 25), (\"Alice\", 30), (\"Bob\", 25), (\"Alice\", 30)]\n",
    "columns = [\"Name\", \"Age\"]\n",
    "df = spark.createDataFrame(data, columns)"
   ]
  },
  {
   "cell_type": "code",
   "execution_count": null,
   "id": "ddbbe21c-e0e6-495f-90d5-7254c80845b8",
   "metadata": {},
   "outputs": [],
   "source": [
    "df.show() "
   ]
  },
  {
   "cell_type": "code",
   "execution_count": null,
   "id": "ba1167fd-55ac-4698-a8ba-065c7da48a54",
   "metadata": {},
   "outputs": [],
   "source": [
    "distinct_df=df.distinct()\n",
    "distinct_df.show() "
   ]
  },
  {
   "cell_type": "code",
   "execution_count": null,
   "id": "ee892da8-ccf7-4ae6-a3f0-6518d64eb8cc",
   "metadata": {},
   "outputs": [],
   "source": [
    "#count_passengers=employee.groupBy(\"SALARY\").count() \n",
    "#filtered_count_passengers= count_passengers.distinct() \n",
    "#filtered_count_passengers.show()\n",
    "filtered_data=employee.filter(employee[\"salary\"]==2600)\n",
    "filtered_data.show()"
   ]
  },
  {
   "cell_type": "code",
   "execution_count": null,
   "id": "8ff96731-dd7f-4035-94b5-e9991fac59a7",
   "metadata": {},
   "outputs": [],
   "source": [
    "Row_data=filtered_data.groupBy(\"SALARY\").count()\n",
    "Row_data.show() "
   ]
  },
  {
   "cell_type": "code",
   "execution_count": null,
   "id": "f4a3e7e3-9163-4739-b200-b2cda45e7d73",
   "metadata": {},
   "outputs": [],
   "source": [
    "#Interview Questions practice\n",
    "rdd=distinct_df.rdd \n",
    "rdd.collect()  "
   ]
  },
  {
   "cell_type": "code",
   "execution_count": null,
   "id": "0c55a1bf-2bea-4a31-8220-6730a3fe35aa",
   "metadata": {},
   "outputs": [],
   "source": [
    "Renamed_data= filtered_data.withColumnRenamed(\"Email\", \"Email_id\")    # How to rename a column in the DF\n",
    "Renamed_data.show() "
   ]
  },
  {
   "cell_type": "code",
   "execution_count": null,
   "id": "0a13444f-c41d-44cd-a0f4-7667abae66a8",
   "metadata": {},
   "outputs": [],
   "source": [
    "#New_renamed= filtered_data.alias(\"Salary\",\"Pay\") "
   ]
  },
  {
   "cell_type": "code",
   "execution_count": null,
   "id": "80a3b0f8-f07c-43e3-af08-abef18aa9b38",
   "metadata": {},
   "outputs": [],
   "source": [
    "Renamed_data.cache() # How to cache the Data Frame"
   ]
  },
  {
   "cell_type": "code",
   "execution_count": null,
   "id": "b1ac2815-5762-4f44-a1a5-217d8b6a6385",
   "metadata": {},
   "outputs": [],
   "source": [
    "if Renamed_data.is_cached:                     # How to check whether the DF is Cached or not \n",
    "    print(\"DF is cached\")\n",
    "else:\n",
    "    print(\"DF is not cached\")"
   ]
  },
  {
   "cell_type": "code",
   "execution_count": null,
   "id": "03980d2a-2a3b-4142-a091-6f1d31ae4e5d",
   "metadata": {},
   "outputs": [],
   "source": [
    "Agg_df=filtered_data.agg({\"salary\":\"sum\"})     # 15. How do you perform aggregation operations (e.g., sum, average) on a DataFrame?\n",
    "Agg_df.show() "
   ]
  },
  {
   "cell_type": "code",
   "execution_count": null,
   "id": "24c4e154-7ed5-41ff-8dbe-6a93f7ca0d77",
   "metadata": {},
   "outputs": [],
   "source": [
    "sex= data.groupBy(\"sex\") \n",
    "sum_fare=sex.agg({\"fare\":\"sum\"}) \n",
    "sum_fare.show()                     \n",
    "\n"
   ]
  },
  {
   "cell_type": "code",
   "execution_count": null,
   "id": "c7d8dba2-fe50-4e89-be3b-8e3f2a6cfae5",
   "metadata": {},
   "outputs": [],
   "source": [
    "sum_fare.persist() "
   ]
  },
  {
   "cell_type": "code",
   "execution_count": null,
   "id": "b9ab371d-a91d-438e-b820-6b855201d576",
   "metadata": {},
   "outputs": [],
   "source": [
    "if sum_fare.is_cached: \n",
    "    print(\" Your df is cached\") \n",
    "else:\n",
    "    print(\" Sorry !!, DF is'nt cached\") "
   ]
  },
  {
   "cell_type": "code",
   "execution_count": null,
   "id": "42af6683-b506-43c9-9777-d04e49bbe2f2",
   "metadata": {},
   "outputs": [],
   "source": [
    "# 16.Describe different types of joins available in PySpark, and when would you use each?\n",
    "\n",
    "lucky_df =distinct_df.select(\"Employee_Id\", \"First_Name\", \"Last_Name\", \"salary\") \n",
    "lucky_df.show() "
   ]
  },
  {
   "cell_type": "code",
   "execution_count": null,
   "id": "937fb86e-1e1c-4bd3-8d63-2a42cca2d15c",
   "metadata": {},
   "outputs": [],
   "source": [
    "join_df=lucky_df.join(distinct_df,\"salary\",\"leftsemi\")\n",
    "join_df.show() "
   ]
  },
  {
   "cell_type": "code",
   "execution_count": null,
   "id": "f45304eb-9d3a-45d8-af07-460d9dcecee9",
   "metadata": {},
   "outputs": [],
   "source": [
    "#18. What is the purpose of broadcast joins in PySpark?\n",
    "broadcast_df=distinct_df.join(broadcast(lucky_df),\"Employee_Id\",\"leftanti\")\n",
    "broadcast_df.show() "
   ]
  },
  {
   "cell_type": "code",
   "execution_count": null,
   "id": "6ebb7ecc-4d18-4adc-843a-562185fd0974",
   "metadata": {},
   "outputs": [],
   "source": [
    "#19.Explain the process of reading data from multiple sources and integrating it in PySpark.\n",
    "#Perfect explaination in ChatGPT----> Check it."
   ]
  },
  {
   "cell_type": "code",
   "execution_count": null,
   "id": "611bc1f0-02d9-49bd-99fc-494aa3ab0ca6",
   "metadata": {},
   "outputs": [],
   "source": []
  },
  {
   "cell_type": "code",
   "execution_count": null,
   "id": "8b6f6db3-2ef5-4265-910c-3a195c2946b3",
   "metadata": {},
   "outputs": [],
   "source": [
    "#22. How do you save a PySpark DataFrame to a Parquet file?\n",
    "join_df.write.parquet(\"home/laxmi/lucky.parquet\")"
   ]
  },
  {
   "cell_type": "code",
   "execution_count": null,
   "id": "d6e2735c-d520-4c8a-83f7-527e295a9b96",
   "metadata": {},
   "outputs": [],
   "source": [
    "import os\n",
    "\n",
    "# Specify the path to the output folder\n",
    "output_folder = \"home/laxmi\"\n",
    "\n",
    "# Check if the output folder exists\n",
    "if os.path.exists(output_folder):\n",
    "    # List the files and directories in the output folder\n",
    "    files_in_output = os.listdir(output_folder)\n",
    "\n",
    "    # Check if there are Parquet files in the output folder\n",
    "    parquet_files = [file for file in files_in_output if file.endswith(\".parquet\")]\n",
    "\n",
    "    if parquet_files:\n",
    "        print(\"DataFrame successfully written to Parquet files.\")\n",
    "        print(f\"Parquet files found: {parquet_files}\")\n",
    "    else:\n",
    "        print(\"No Parquet files found in the output folder.\")\n",
    "else:\n",
    "    print(f\"The specified output folder '{output_folder}' does not exist.\")\n",
    "\n"
   ]
  },
  {
   "cell_type": "code",
   "execution_count": null,
   "id": "615d077a-f13d-406c-8f49-6daeb0146100",
   "metadata": {},
   "outputs": [],
   "source": [
    "join_df.show() "
   ]
  },
  {
   "cell_type": "code",
   "execution_count": null,
   "id": "4ee04b1b-525a-4da8-80f7-a8beee855211",
   "metadata": {},
   "outputs": [],
   "source": [
    "parquet=spark.read.parquet(\"home/laxmi/lucky.parquet\", header=True, inferSchema=True) \n",
    "parquet.show() "
   ]
  },
  {
   "cell_type": "code",
   "execution_count": 23,
   "id": "7e7a4cf7-1990-4555-9c86-1b8b7c082bcd",
   "metadata": {},
   "outputs": [
    {
     "name": "stdout",
     "output_type": "stream",
     "text": [
      "+--------------+\n",
      "|print('lamxi')|\n",
      "+--------------+\n",
      "|           a=1|\n",
      "|           b=2|\n",
      "|         c=a+b|\n",
      "|      print(c)|\n",
      "+--------------+\n",
      "\n"
     ]
    }
   ],
   "source": [
    "python_df=spark.read.csv(\"/home/laxmi/development/laxmi_env/kanth.py\", header=True, inferSchema=True) \n",
    "python_df.show() "
   ]
  },
  {
   "cell_type": "code",
   "execution_count": 26,
   "id": "60a4c42d-395b-4ec6-b238-cb967fcd0823",
   "metadata": {},
   "outputs": [
    {
     "name": "stdout",
     "output_type": "stream",
     "text": [
      "++\n",
      "||\n",
      "++\n",
      "++\n",
      "\n"
     ]
    }
   ],
   "source": [
    "text_df=spark.read.csv(\"/home/laxmi/untitled.txt\", header=True, inferSchema=True) \n",
    "text_df.show() \n"
   ]
  },
  {
   "cell_type": "code",
   "execution_count": null,
   "id": "3be76f30-b2ff-4f7f-9eb5-ea21c1eec1e2",
   "metadata": {},
   "outputs": [],
   "source": []
  }
 ],
 "metadata": {
  "kernelspec": {
   "display_name": "Python 3 (ipykernel)",
   "language": "python",
   "name": "python3"
  },
  "language_info": {
   "codemirror_mode": {
    "name": "ipython",
    "version": 3
   },
   "file_extension": ".py",
   "mimetype": "text/x-python",
   "name": "python",
   "nbconvert_exporter": "python",
   "pygments_lexer": "ipython3",
   "version": "3.10.12"
  }
 },
 "nbformat": 4,
 "nbformat_minor": 5
}
